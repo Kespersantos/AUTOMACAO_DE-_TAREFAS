{
 "cells": [
  {
   "cell_type": "markdown",
   "id": "5514a498",
   "metadata": {},
   "source": [
    "# Automatizaodor de processos"
   ]
  },
  {
   "cell_type": "markdown",
   "id": "9aa85c63",
   "metadata": {},
   "source": [
    "## Problemas passo a passo:\n",
    "\n",
    "### passo 1: buscar as informações das açoes de forma automatica\n",
    "### passo 2: criar analises dos dados\n",
    "### passo 3: enviar um e-mail para meu gestor com as analises"
   ]
  },
  {
   "cell_type": "markdown",
   "id": "b511dc39",
   "metadata": {},
   "source": [
    "## passo 1: buscar as informações das açoes de forma automatica"
   ]
  },
  {
   "cell_type": "code",
   "execution_count": null,
   "id": "9dd99af2",
   "metadata": {},
   "outputs": [],
   "source": [
    "!pip install yfinance"
   ]
  },
  {
   "cell_type": "code",
   "execution_count": 5,
   "id": "c368df0f",
   "metadata": {},
   "outputs": [],
   "source": [
    "import yfinance as yf"
   ]
  },
  {
   "cell_type": "code",
   "execution_count": 7,
   "id": "09f1a8f8",
   "metadata": {},
   "outputs": [
    {
     "name": "stdout",
     "output_type": "stream",
     "text": [
      "digite o código da ação:AMZN\n"
     ]
    }
   ],
   "source": [
    "ticker=input(\"digite o código da ação:\")\n",
    "dados=yf.Ticker(ticker).history(\"6mo\")"
   ]
  },
  {
   "cell_type": "code",
   "execution_count": 8,
   "id": "eb0157a6",
   "metadata": {},
   "outputs": [],
   "source": [
    "fechamento=dados.Close"
   ]
  },
  {
   "cell_type": "code",
   "execution_count": 10,
   "id": "87c947b5",
   "metadata": {},
   "outputs": [
    {
     "data": {
      "text/plain": [
       "<Axes: xlabel='Date'>"
      ]
     },
     "execution_count": 10,
     "metadata": {},
     "output_type": "execute_result"
    },
    {
     "data": {
      "image/png": "[encoded data removed]",
      "text/plain": [
       "<Figure size 640x480 with 1 Axes>"
      ]
     },
     "metadata": {},
     "output_type": "display_data"
    }
   ],
   "source": [
    "fechamento.plot()"
   ]
  },
  {
   "cell_type": "markdown",
   "id": "f66c2c52",
   "metadata": {},
   "source": [
    "## passo 2: criar analises dos dados\n",
    "### *cotação max.\n",
    "### *cotação min.\n",
    "### *cotação atual"
   ]
  },
  {
   "cell_type": "code",
   "execution_count": 63,
   "id": "6b6c52a2",
   "metadata": {},
   "outputs": [
    {
     "name": "stdout",
     "output_type": "stream",
     "text": [
      "A cotação maxima é: R$51.99\n",
      "A cotação minima é: R$36.29\n",
      "A cotação atual é: R$46.69\n"
     ]
    }
   ],
   "source": [
    "maxima=round(fechamento.max(),2)\n",
    "minimo=round(fechamento.min(),2)\n",
    "atual=round(fechamento[-1],2)\n",
    " \n",
    "print(f\"A cotação maxima é: R${maxima}\")\n",
    "print(f\"A cotação minima é: R${minimo}\")\n",
    "print(f\"A cotação atual é: R${atual}\")"
   ]
  },
  {
   "cell_type": "markdown",
   "id": "6b2ed18f",
   "metadata": {},
   "source": [
    "## passo 3: enviar um e-mail para meu gestor com as analise###s\n",
    "\n",
    "### *abrir uma nova aba (ctrl+t)\n",
    "### *digitar o endereço de email e dar um \"Enter\"\n",
    "### *clicar no botão \"Escrever\"\n",
    "### *digitar o destinatario, \"Tab\"\n",
    "### *digitar  o assunto , \"Tab\"\n",
    "### *digitar a mensagem do email\n",
    "### *clicar em enviar\n"
   ]
  },
  {
   "cell_type": "code",
   "execution_count": null,
   "id": "0d603871",
   "metadata": {},
   "outputs": [],
   "source": [
    "!pip install pyautogui\n",
    "!pip install pyperclip"
   ]
  },
  {
   "cell_type": "code",
   "execution_count": 29,
   "id": "5e7268f5",
   "metadata": {},
   "outputs": [],
   "source": [
    "import pyautogui\n",
    "import pyperclip"
   ]
  },
  {
   "cell_type": "code",
   "execution_count": 55,
   "id": "17252615",
   "metadata": {},
   "outputs": [],
   "source": [
    "# pause de 2 seguntos entre comandos\n",
    "pyautogui.PAUSE=3\n",
    "# abrir uma nova aba (ctrl+t)\n",
    "pyautogui.hotkey (\"ctrl\",\"t\")\n",
    "\n",
    "#digitar o endereçõ de email e dar um \"Enter\"\n",
    "pyperclip.copy(\"https://mail.google.com/mail/u/0/?hl=pt-BR#inbox\")\n",
    "pyautogui.hotkey(\"ctrl\",\"v\")\n",
    "pyautogui.hotkey(\"enter\")\n",
    "\n",
    "# clicar no botão \"Escrever\"\n",
    "pyautogui.click(x=123, y=231)\n",
    "\n",
    "# digitar o destinatario,\"Tab\"\n",
    "pyperclip.copy(\"kesper_venom@hotmail.com\")\n",
    "pyautogui.hotkey(\"ctrl\",\"v\")\n",
    "pyautogui.hotkey(\"tab\")\n",
    "\n",
    "# digitar  o assunto , \"Tab\"\n",
    "pyperclip.copy(\"Analises diárias\")\n",
    "pyautogui.hotkey(\"ctrl\",\"v\")\n",
    "pyautogui.hotkey(\"tab\")\n",
    "\n",
    "# digitar a mensagem do email\n",
    "mensagem = f\"\"\"Prezado gestor, \n",
    "seguem as análises, conforme solicitado da ação {ticker} ref. aos últimos 6 meses:\n",
    "\n",
    "Cotação Máxima: R${maxima}\n",
    "Cotação Mínima: R${minimo}\n",
    "Cotação Atual: R${atual}\n",
    "\n",
    "Qualquer dúvida estou a disposição:\n",
    "att.\n",
    "\n",
    "\"\"\"\n",
    "pyperclip.copy(mensagem)\n",
    "pyautogui.hotkey(\"ctrl\",\"v\")\n",
    "\n",
    "# clicar em enviar\n",
    "pyautogui.click(x=774, y=672)\n"
   ]
  },
  {
   "cell_type": "code",
   "execution_count": 53,
   "id": "dfbecdc9",
   "metadata": {},
   "outputs": [
    {
     "data": {
      "text/plain": [
       "Point(x=272, y=431)"
      ]
     },
     "execution_count": 53,
     "metadata": {},
     "output_type": "execute_result"
    }
   ],
   "source": [
    "# pegar posição do ponteiro mouse\n",
    "import time\n",
    "time.sleep(5)\n",
    "pyautogui.position()"
   ]
  },
  {
   "cell_type": "code",
   "execution_count": null,
   "id": "505cc8b4",
   "metadata": {},
   "outputs": [],
   "source": []
  }
 ],
 "metadata": {
  "kernelspec": {
   "display_name": "Python 3 (ipykernel)",
   "language": "python",
   "name": "python3"
  },
  "language_info": {
   "codemirror_mode": {
    "name": "ipython",
    "version": 3
   },
   "file_extension": ".py",
   "mimetype": "text/x-python",
   "name": "python",
   "nbconvert_exporter": "python",
   "pygments_lexer": "ipython3",
   "version": "3.11.3"
  }
 },
 "nbformat": 4,
 "nbformat_minor": 5
}
